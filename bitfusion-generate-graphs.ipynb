{
 "cells": [
  {
   "cell_type": "markdown",
   "metadata": {},
   "source": [
    "# Imports"
   ]
  },
  {
   "cell_type": "code",
   "execution_count": 50,
   "metadata": {},
   "outputs": [
    {
     "name": "stdout",
     "output_type": "stream",
     "text": [
      "The autoreload extension is already loaded. To reload it, use:\n",
      "  %reload_ext autoreload\n"
     ]
    }
   ],
   "source": [
    "import pandas\n",
    "import configparser\n",
    "import os\n",
    "import numpy as np\n",
    "%load_ext autoreload\n",
    "%autoreload 2\n",
    "from graph_plot.barchart import BarChart\n",
    "\n",
    "%matplotlib inline\n",
    "import matplotlib\n",
    "\n",
    "import future        # pip install future\n",
    "import builtins      # pip install future\n",
    "import past          # pip install future\n",
    "import six           # pip install six\n",
    "\n",
    "import warnings\n",
    "warnings.filterwarnings('ignore')\n",
    "\n",
    "import src.benchmarks.benchmarks as benchmarks\n",
    "from src.simulator.stats import Stats\n",
    "from src.simulator.simulator import Simulator\n",
    "from src.sweep.sweep import SimulatorSweep, check_pandas_or_run\n",
    "from src.utils.utils import *\n",
    "from src.optimizer.optimizer import optimize_for_order, get_stats_fast\n",
    "\n",
    "#import dnnweaver2"
   ]
  },
  {
   "cell_type": "markdown",
   "metadata": {},
   "source": [
    "## Constants\n",
    "### We use a batch size of 16"
   ]
  },
  {
   "cell_type": "code",
   "execution_count": 51,
   "metadata": {},
   "outputs": [],
   "source": [
    "batch_size = 16\n",
    "\n",
    "results_dir = './results'\n",
    "if not os.path.exists(results_dir):\n",
    "    os.makedirs(results_dir)\n",
    "\n",
    "fig_dir = './fig'\n",
    "if not os.path.exists(fig_dir):\n",
    "    os.makedirs(fig_dir)"
   ]
  },
  {
   "cell_type": "markdown",
   "metadata": {},
   "source": [
    "### Create a simulator object using the configuration from BitFusion-Eyeriss (bf_e_conf.ini)"
   ]
  },
  {
   "cell_type": "code",
   "execution_count": 56,
   "metadata": {
    "scrolled": false
   },
   "outputs": [
    {
     "name": "stdout",
     "output_type": "stream",
     "text": [
      "Simulator object\n",
      "\tMax supported precision: 8\n",
      "\tMin supported precision: 2\n",
      "\tSystolic array size: 16 -inputs x 32 -outputs\n",
      "\tWbuf size: 65,536 Bytes\n",
      "\tIbuf size: 32,768 Bytes\n",
      "\tObuf size: 16,384 Bytes\n",
      "Double buffering enabled. Sizes of SRAM are halved\n",
      "\n",
      "**************************************************\n",
      "Energy costs for BitFusion\n",
      "Core dynamic energy : 0.000 pJ/cycle (for entire systolic array)\n",
      "WBUF Read energy    : 0.021 pJ/bit\n",
      "WBUF Write energy   : 0.029 pJ/bit\n",
      "IBUF Read energy    : 0.059 pJ/bit\n",
      "IBUF Write energy   : 0.114 pJ/bit\n",
      "OBUF Read energy    : 0.033 pJ/bit\n",
      "OBUF Write energy   : 0.073 pJ/bit\n",
      "\n"
     ]
    }
   ],
   "source": [
    "# BitFusion configuration file\n",
    "config_file = 'bf_e_conf.ini'\n",
    "\n",
    "# Create simulator object\n",
    "verbose = False\n",
    "bf_e_sim = Simulator(config_file, verbose)\n",
    "bf_e_energy_costs = bf_e_sim.get_energy_cost()\n",
    "print(bf_e_sim)\n",
    "\n",
    "energy_tuple = bf_e_energy_costs\n",
    "print('')\n",
    "print('*'*50)\n",
    "print(energy_tuple)"
   ]
  },
  {
   "cell_type": "markdown",
   "metadata": {},
   "source": [
    "### Generate BitFusion numbers"
   ]
  },
  {
   "cell_type": "code",
   "execution_count": 57,
   "metadata": {
    "scrolled": true
   },
   "outputs": [
    {
     "name": "stderr",
     "output_type": "stream",
     "text": [
      "INFO:src.sweep.sweep.Simulator:Simulating Benchmark: RESNET-50\n",
      "INFO:src.sweep.sweep.Simulator:N x M = 16 x 32\n",
      "INFO:src.sweep.sweep.Simulator:Max Precision (bits): 8\n",
      "INFO:src.sweep.sweep.Simulator:Min Precision (bits): 2\n",
      "INFO:src.sweep.sweep.Simulator:Batch size: 16\n",
      "INFO:src.sweep.sweep.Simulator:Bandwidth (bits/cycle): 192\n"
     ]
    },
    {
     "name": "stdout",
     "output_type": "stream",
     "text": [
      "Got BitFusion Eyeriss, Numbers\n"
     ]
    }
   ],
   "source": [
    "sim_sweep_columns = ['N', 'M',\n",
    "        'Max Precision (bits)', 'Min Precision (bits)',\n",
    "        'Network', 'Layer',\n",
    "        'Cycles', 'Memory wait cycles',\n",
    "        'WBUF Read', 'WBUF Write',\n",
    "        'OBUF Read', 'OBUF Write',\n",
    "        'IBUF Read', 'IBUF Write',\n",
    "        'DRAM Read', 'DRAM Write',\n",
    "        'Bandwidth (bits/cycle)',\n",
    "        'WBUF Size (bits)', 'OBUF Size (bits)', 'IBUF Size (bits)',\n",
    "        'Batch size']\n",
    "\n",
    "bf_e_sim_sweep_csv = os.path.join(results_dir, 'bitfusion-eyeriss-sim-sweep.csv')\n",
    "if os.path.exists(bf_e_sim_sweep_csv):\n",
    "    bf_e_sim_sweep_df = pandas.read_csv(bf_e_sim_sweep_csv)\n",
    "else:\n",
    "    bf_e_sim_sweep_df = pandas.DataFrame(columns=sim_sweep_columns)\n",
    "print('Got BitFusion Eyeriss, Numbers')\n",
    "\n",
    "bf_e_results = check_pandas_or_run(bf_e_sim, bf_e_sim_sweep_df,\n",
    "        bf_e_sim_sweep_csv, batch_size=batch_size)\n",
    "bf_e_results = bf_e_results.groupby('Network',as_index=False).agg(np.sum)\n",
    "area_stats = bf_e_sim.get_area()"
   ]
  },
  {
   "cell_type": "markdown",
   "metadata": {},
   "source": [
    "### Get Eyeriss numbers"
   ]
  },
  {
   "cell_type": "code",
   "execution_count": 16,
   "metadata": {},
   "outputs": [],
   "source": [
    "def get_eyeriss_energy(df):\n",
    "    eyeriss_energy_per_mac = 16 * 0.2 * 1.e-3 #energy in nJ\n",
    "    eyeriss_energy_alu = float(df['ALU'])\n",
    "    eyeriss_energy_dram = float(df['DRAM']) * 0.15 #Scaling due to technology\n",
    "    eyeriss_energy_buffer = float(df['Buffer'])\n",
    "    eyeriss_energy_array = float(df['Array'])\n",
    "    eyeriss_energy_rf = float(df['RF'])\n",
    "    eyeriss_energy = eyeriss_energy_alu + eyeriss_energy_dram + eyeriss_energy_buffer + eyeriss_energy_array + eyeriss_energy_rf\n",
    "    eyeriss_energy *= eyeriss_energy_per_mac\n",
    "    return eyeriss_energy\n",
    "\n",
    "def get_eyeriss_energy_breakdown(df):\n",
    "    eyeriss_energy_per_mac = 16 * 0.2 * 1.e-3 #energy in nJ\n",
    "    eyeriss_energy_alu = float(df['ALU'])\n",
    "    eyeriss_energy_dram = float(df['DRAM'])\n",
    "    eyeriss_energy_buffer = float(df['Buffer'])\n",
    "    eyeriss_energy_array = float(df['Array'])\n",
    "    eyeriss_energy_rf = float(df['RF'])\n",
    "    eyeriss_energy = [eyeriss_energy_alu+eyeriss_energy_array, eyeriss_energy_buffer, eyeriss_energy_rf, eyeriss_energy_dram]\n",
    "    eyeriss_energy = [x * eyeriss_energy_per_mac for x in eyeriss_energy]\n",
    "    return eyeriss_energy\n",
    "\n",
    "def df_to_stats(df):\n",
    "    stats = Stats()\n",
    "    stats.total_cycles = float(df['Cycles'])\n",
    "    stats.mem_stall_cycles = float(df['Memory wait cycles'])\n",
    "    stats.reads['act'] = float(df['IBUF Read'])\n",
    "    stats.reads['out'] = float(df['OBUF Read'])\n",
    "    stats.reads['wgt'] = float(df['WBUF Read'])\n",
    "    stats.reads['dram'] = float(df['DRAM Read'])\n",
    "    stats.writes['act'] = float(df['IBUF Write'])\n",
    "    stats.writes['out'] = float(df['OBUF Write'])\n",
    "    stats.writes['wgt'] = float(df['WBUF Write'])\n",
    "    stats.writes['dram'] = float(df['DRAM Write'])\n",
    "    return stats"
   ]
  },
  {
   "cell_type": "code",
   "execution_count": 19,
   "metadata": {},
   "outputs": [
    {
     "name": "stdout",
     "output_type": "stream",
     "text": [
      "BitFusion-Eyeriss comparison\n",
      "Area budget = 5.871301775147929\n",
      "(0, 0.76747776, 0.242112, 0.24330592)\n",
      "Warning: BitFusion Area is outside 10% of eyeriss\n",
      "total_area = 1.25289568, budget = 5.871301775147929\n",
      "AlexNet\n",
      "**************************************************\n",
      "Benchmark: AlexNet\n",
      "Eyeriss time: 8.785792 ms\n",
      "BitFusion time: 4.708311375 ms\n",
      "Eyeriss power: 373.97237605442973 mWatt\n",
      "BitFusion power: 423.7203315191728 mWatt\n",
      "**************************************************\n",
      "SVHN\n",
      "**************************************************\n",
      "Benchmark: SVHN\n",
      "Eyeriss time: 1.412096 ms\n",
      "BitFusion time: 0.164690375 ms\n",
      "Eyeriss power: 505.58056098622194 mWatt\n",
      "BitFusion power: 392.19020943155266 mWatt\n",
      "**************************************************\n",
      "CIFAR10\n",
      "**************************************************\n",
      "Benchmark: CIFAR10\n",
      "Eyeriss time: 5.519232 ms\n",
      "BitFusion time: 0.411713 ms\n",
      "Eyeriss power: 496.3685642431412 mWatt\n",
      "BitFusion power: 434.27829246740754 mWatt\n",
      "**************************************************\n",
      "LeNet-5\n",
      "**************************************************\n",
      "Benchmark: LeNet-5\n",
      "Eyeriss time: 0.139712 ms\n",
      "BitFusion time: 0.051294 ms\n",
      "Eyeriss power: 561.7814574438846 mWatt\n",
      "BitFusion power: 339.5009169844838 mWatt\n",
      "**************************************************\n",
      "VGG-7\n",
      "**************************************************\n",
      "Benchmark: VGG-7\n",
      "Eyeriss time: 2.703232 ms\n",
      "BitFusion time: 0.352811375 ms\n",
      "Eyeriss power: 540.0729267863062 mWatt\n",
      "BitFusion power: 408.4281339696494 mWatt\n",
      "**************************************************\n",
      "RESNET-18\n",
      "**************************************************\n",
      "Benchmark: RESNET-18\n",
      "Eyeriss time: 11.935744 ms\n",
      "BitFusion time: 6.13499775 ms\n",
      "Eyeriss power: 421.3605748798902 mWatt\n",
      "BitFusion power: 418.2431829129062 mWatt\n",
      "**************************************************\n",
      "RESNET-50\n"
     ]
    },
    {
     "ename": "TypeError",
     "evalue": "cannot convert the series to <class 'float'>",
     "output_type": "error",
     "traceback": [
      "\u001b[0;31m---------------------------------------------------------------------------\u001b[0m",
      "\u001b[0;31mTypeError\u001b[0m                                 Traceback (most recent call last)",
      "\u001b[0;32m<ipython-input-19-6949afaab252>\u001b[0m in \u001b[0;36m<module>\u001b[0;34m\u001b[0m\n\u001b[1;32m     19\u001b[0m     \u001b[0mlookup_dict\u001b[0m \u001b[0;34m=\u001b[0m \u001b[0;34m{\u001b[0m\u001b[0;34m'Benchmark'\u001b[0m\u001b[0;34m:\u001b[0m \u001b[0mbench\u001b[0m\u001b[0;34m}\u001b[0m\u001b[0;34m\u001b[0m\u001b[0m\n\u001b[1;32m     20\u001b[0m     \u001b[0mprint\u001b[0m\u001b[0;34m(\u001b[0m\u001b[0mbench\u001b[0m\u001b[0;34m)\u001b[0m\u001b[0;34m\u001b[0m\u001b[0m\n\u001b[0;32m---> 21\u001b[0;31m     \u001b[0meyeriss_cycles\u001b[0m \u001b[0;34m=\u001b[0m \u001b[0mfloat\u001b[0m\u001b[0;34m(\u001b[0m\u001b[0mlookup_pandas_dataframe\u001b[0m\u001b[0;34m(\u001b[0m\u001b[0meyeriss_data_bench\u001b[0m\u001b[0;34m,\u001b[0m \u001b[0mlookup_dict\u001b[0m\u001b[0;34m)\u001b[0m\u001b[0;34m[\u001b[0m\u001b[0;34m'time(ms)'\u001b[0m\u001b[0;34m]\u001b[0m\u001b[0;34m)\u001b[0m\u001b[0;34m\u001b[0m\u001b[0m\n\u001b[0m\u001b[1;32m     22\u001b[0m     \u001b[0meyeriss_time\u001b[0m \u001b[0;34m=\u001b[0m \u001b[0meyeriss_cycles\u001b[0m \u001b[0;34m/\u001b[0m \u001b[0;36m500.e3\u001b[0m \u001b[0;34m/\u001b[0m \u001b[0;36m16\u001b[0m\u001b[0;34m\u001b[0m\u001b[0m\n\u001b[1;32m     23\u001b[0m     \u001b[0meyeriss_energy\u001b[0m \u001b[0;34m=\u001b[0m \u001b[0mget_eyeriss_energy\u001b[0m\u001b[0;34m(\u001b[0m\u001b[0mlookup_pandas_dataframe\u001b[0m\u001b[0;34m(\u001b[0m\u001b[0meyeriss_data_bench\u001b[0m\u001b[0;34m,\u001b[0m \u001b[0mlookup_dict\u001b[0m\u001b[0;34m)\u001b[0m\u001b[0;34m)\u001b[0m\u001b[0;34m\u001b[0m\u001b[0m\n",
      "\u001b[0;32m~/anaconda3/lib/python3.6/site-packages/pandas/core/series.py\u001b[0m in \u001b[0;36mwrapper\u001b[0;34m(self)\u001b[0m\n\u001b[1;32m    110\u001b[0m             \u001b[0;32mreturn\u001b[0m \u001b[0mconverter\u001b[0m\u001b[0;34m(\u001b[0m\u001b[0mself\u001b[0m\u001b[0;34m.\u001b[0m\u001b[0miloc\u001b[0m\u001b[0;34m[\u001b[0m\u001b[0;36m0\u001b[0m\u001b[0;34m]\u001b[0m\u001b[0;34m)\u001b[0m\u001b[0;34m\u001b[0m\u001b[0m\n\u001b[1;32m    111\u001b[0m         raise TypeError(\"cannot convert the series to \"\n\u001b[0;32m--> 112\u001b[0;31m                         \"{0}\".format(str(converter)))\n\u001b[0m\u001b[1;32m    113\u001b[0m \u001b[0;34m\u001b[0m\u001b[0m\n\u001b[1;32m    114\u001b[0m     \u001b[0;32mreturn\u001b[0m \u001b[0mwrapper\u001b[0m\u001b[0;34m\u001b[0m\u001b[0m\n",
      "\u001b[0;31mTypeError\u001b[0m: cannot convert the series to <class 'float'>"
     ]
    }
   ],
   "source": [
    "# Eyeriss-Simulator\n",
    "eyeriss_data = pandas.read_csv(os.path.join(results_dir, 'eyeriss_results.csv'))\n",
    "eyeriss_data_bench = eyeriss_data.groupby('Benchmark', as_index=False).agg(np.sum)\n",
    "eyeriss_data_bench['Platform'] = 'Eyeriss (16-bit)'\n",
    "\n",
    "print('BitFusion-Eyeriss comparison')\n",
    "eyeriss_area = 3.5*3.5*45*45/65./65.\n",
    "print('Area budget = {}'.format(eyeriss_area))\n",
    "\n",
    "\n",
    "print(area_stats)\n",
    "if abs(sum(area_stats)-eyeriss_area)/eyeriss_area > 0.1:\n",
    "    print('Warning: BitFusion Area is outside 10% of eyeriss')\n",
    "print('total_area = {}, budget = {}'.format(sum(area_stats), eyeriss_area))\n",
    "bf_e_area = sum(area_stats)\n",
    "\n",
    "baseline_data = []\n",
    "for bench in benchmarks.benchlist:\n",
    "    lookup_dict = {'Benchmark': bench}\n",
    "\n",
    "    eyeriss_cycles = float(lookup_pandas_dataframe(eyeriss_data_bench, lookup_dict)['time(ms)'])\n",
    "    eyeriss_time = eyeriss_cycles / 500.e3 / 16\n",
    "    eyeriss_energy = get_eyeriss_energy(lookup_pandas_dataframe(eyeriss_data_bench, lookup_dict))\n",
    "    eyeriss_power = eyeriss_energy / eyeriss_time * 1.e-9\n",
    "\n",
    "    eyeriss_speedup = eyeriss_time / eyeriss_time\n",
    "    eyeriss_energy_efficiency = eyeriss_energy / eyeriss_energy\n",
    "\n",
    "    eyeriss_ppa = eyeriss_speedup / eyeriss_area / (eyeriss_speedup / eyeriss_area)\n",
    "    eyeriss_ppw = eyeriss_speedup / eyeriss_power / (eyeriss_speedup / eyeriss_power)\n",
    "    \n",
    "    bf_e_stats = df_to_stats(bf_e_results.loc[bf_e_results['Network'] == bench])\n",
    "    bf_e_cycles = bf_e_stats.total_cycles * (batch_size / 16.)\n",
    "    bf_e_time = bf_e_cycles / 500.e3 / 16\n",
    "    bf_e_energy = bf_e_stats.get_energy(bf_e_sim.get_energy_cost()) * (batch_size / 16.)\n",
    "    bf_e_power = bf_e_energy / bf_e_time * 1.e-9\n",
    "\n",
    "    bf_e_speedup = eyeriss_time / bf_e_time\n",
    "    bf_e_energy_efficiency = eyeriss_energy / bf_e_energy\n",
    "\n",
    "    bf_e_ppa = bf_e_speedup / bf_e_area / (eyeriss_speedup / eyeriss_area)\n",
    "    bf_e_ppw = bf_e_speedup / bf_e_power / (eyeriss_speedup / eyeriss_power)\n",
    "\n",
    "    baseline_data.append(['Performance', bench, bf_e_speedup])\n",
    "    baseline_data.append(['Energy reduction', bench, bf_e_energy_efficiency])\n",
    "    baseline_data.append(['Performance-per-Watt', bench, bf_e_ppw])\n",
    "    baseline_data.append(['Performance-per-Area', bench, bf_e_ppa])\n",
    "    \n",
    "    print('*'*50)\n",
    "    print('Benchmark: {}'.format(bench))\n",
    "    print('Eyeriss time: {} ms'.format(eyeriss_time))\n",
    "    print('BitFusion time: {} ms'.format(bf_e_time))    \n",
    "    print('Eyeriss power: {} mWatt'.format(eyeriss_power*1.e3*16))\n",
    "    print('BitFusion power: {} mWatt'.format(bf_e_power*1.e3*16))\n",
    "    print('*'*50)\n",
    "    \n",
    "eyeriss_comparison_df = pandas.DataFrame(baseline_data, columns=['Metric', 'Network', 'Value'])"
   ]
  },
  {
   "cell_type": "code",
   "execution_count": 18,
   "metadata": {
    "scrolled": false
   },
   "outputs": [
    {
     "data": {
      "image/png": "[encoded data removed]",
      "text/plain": [
       "<Figure size 1152x252 with 1 Axes>"
      ]
     },
     "metadata": {
      "needs_background": "light"
     },
     "output_type": "display_data"
    }
   ],
   "source": [
    "bc = BarChart()\n",
    "bc.LABEL_BAR = True\n",
    "bc.BAR_WIDTH = None\n",
    "bc.YAXIS_MAX = 16\n",
    "bc.ISTIMES = True\n",
    "bc.TOP_ROTATE = True\n",
    "bc.LEGEND_LOCATION = \"upper center\"\n",
    "bc.LEGEND_NCOLUMN = 5\n",
    "bc.MV_LEGEND_OUTSIDE_Y = 1.4\n",
    "bc.MV_LEGEND_OUTSIDE_X = 0.5\n",
    "bc.LOG_SCALE = False\n",
    "bc.FIG_WIDTH = 16\n",
    "bc.TOP_LABEL_FONTSIZE = 12\n",
    "bc.LEGEND_FONTSIZE = 16\n",
    "\n",
    "# print(eyeriss_comparison_df)\n",
    "\n",
    "# print('Generating Figure for GPU performance comparison')\n",
    "bc.yaxis = 'Performance-over-Eyeriss'\n",
    "bc.BAR_WIDTH = None\n",
    "legend_list = ['Performance', 'Energy reduction']\n",
    "fig_name = os.path.join(fig_dir, 'eyeriss-comparision.pdf')\n",
    "bc.plot(fig_name, eyeriss_comparison_df, x_plot='Network', y_plot='Value', bar_plot='Metric',\n",
    "        bar_list=legend_list, add_geomean=True)"
   ]
  },
  {
   "cell_type": "markdown",
   "metadata": {},
   "source": [
    "### Energy breakdown for Eyeriss and BitFusion"
   ]
  },
  {
   "cell_type": "code",
   "execution_count": 10,
   "metadata": {},
   "outputs": [],
   "source": [
    "breakdown_data = []\n",
    "for bench in benchmarks.benchlist:\n",
    "    lookup_dict = {'Benchmark': bench}\n",
    "    eyeriss_energy = get_eyeriss_energy_breakdown(lookup_pandas_dataframe(eyeriss_data_bench, lookup_dict))\n",
    "    total_energy = sum(eyeriss_energy)\n",
    "    eyeriss_breakdown = [x / float(total_energy) for x in eyeriss_energy]\n",
    "    \n",
    "    breakdown_data.append(['Eyeriss', bench] + eyeriss_breakdown)\n",
    "    \n",
    "    bf_e_stats = df_to_stats(bf_e_results.loc[bf_e_results['Network'] == bench])\n",
    "    bf_breakdown = bf_e_stats.get_energy_breakdown(bf_e_sim.get_energy_cost())\n",
    "    total = sum(bf_breakdown)\n",
    "    bf_breakdown = [x / float(total) for x in bf_breakdown]\n",
    "    \n",
    "    breakdown_data.append(['BitFusion', bench] + bf_breakdown)\n",
    "    \n",
    "breakdown_df = pandas.DataFrame(breakdown_data, columns = ['Platform', 'Network', 'Compute', 'Register File', 'Buffers', 'DRAM'])"
   ]
  },
  {
   "cell_type": "code",
   "execution_count": 11,
   "metadata": {
    "scrolled": false
   },
   "outputs": [
    {
     "data": {
      "image/png": "[encoded data removed]",
      "text/plain": [
       "<Figure size 1152x252 with 1 Axes>"
      ]
     },
     "metadata": {
      "needs_background": "light"
     },
     "output_type": "display_data"
    }
   ],
   "source": [
    "bc = BarChart()\n",
    "bc.LABEL_BAR = False\n",
    "bc.BAR_LEFT_MARGIN = 1\n",
    "bc.BAR_GAP = 0.1\n",
    "bc.YAXIS_MAX = 1\n",
    "bc.ISTIMES = True\n",
    "bc.TOP_ROTATE = True\n",
    "bc.LEGEND_LOCATION = \"upper center\"\n",
    "bc.LEGEND_NCOLUMN = 5\n",
    "bc.MV_LEGEND_OUTSIDE_Y = 1.2\n",
    "bc.MV_LEGEND_OUTSIDE_X = 0.5\n",
    "bc.LOG_SCALE = False\n",
    "bc.FIG_WIDTH = 16\n",
    "bc.TOP_LABEL_FONTSIZE = 12\n",
    "bc.LEGEND_FONTSIZE = 16\n",
    "\n",
    "# print(eyeriss_comparison_df)\n",
    "\n",
    "# print('Generating Figure for GPU performance comparison')\n",
    "bc.yaxis = 'Energy breakdown'\n",
    "bc.BAR_WIDTH = None\n",
    "legend_list = ['Eyeriss', 'BitFusion']\n",
    "fig_name = os.path.join(fig_dir, 'bitfusion-eyeriss-energy-breakdown.pdf')\n",
    "bc.plot(fig_name, breakdown_df, x_plot='Network', y_plot=['Compute', 'Register File', 'Buffers', 'DRAM'], bar_plot='Platform',\n",
    "        bar_list=legend_list)"
   ]
  },
  {
   "cell_type": "markdown",
   "metadata": {},
   "source": [
    "## GPU numbers"
   ]
  },
  {
   "cell_type": "code",
   "execution_count": 27,
   "metadata": {},
   "outputs": [
    {
     "name": "stdout",
     "output_type": "stream",
     "text": [
      "           Name    Network            fps  Batch size\n",
      "0   TitanX-fp32    AlexNet    5555.555556          16\n",
      "1   TitanX-int8    AlexNet   10884.353741          16\n",
      "2      TX2-fp32    AlexNet     459.188049          16\n",
      "3      TX2-int8    AlexNet     899.633729          16\n",
      "4   TitanX-fp32       SVHN   27118.644068          16\n",
      "5   TitanX-int8       SVHN   39506.172840          16\n",
      "6      TX2-fp32       SVHN    1818.575156          16\n",
      "7      TX2-int8       SVHN    2649.282326          16\n",
      "8   TitanX-fp32    CIFAR10    9142.857143          16\n",
      "9   TitanX-int8    CIFAR10   19207.683073          16\n",
      "10     TX2-fp32    CIFAR10     654.911590          16\n",
      "11     TX2-int8    CIFAR10    1375.864685          16\n",
      "12  TitanX-fp32    LeNet-5   87912.087912          16\n",
      "13  TitanX-int8    LeNet-5  115107.913669          16\n",
      "14     TX2-fp32    LeNet-5    4230.188957          16\n",
      "15     TX2-int8    LeNet-5    5538.808563          16\n",
      "16  TitanX-fp32      VGG-7    9411.764706          16\n",
      "17  TitanX-int8      VGG-7   20278.833967          16\n",
      "18     TX2-fp32      VGG-7     660.348364          16\n",
      "19     TX2-int8      VGG-7    1422.803827          16\n",
      "20  TitanX-fp32  RESNET-18    2946.593002          16\n",
      "21  TitanX-int8  RESNET-18    6837.606838          16\n",
      "22     TX2-fp32  RESNET-18     220.442505          16\n",
      "23     TX2-int8  RESNET-18     511.539660          16\n",
      "24  TitanX-fp32        RNN   80000.000000          16\n",
      "25  TitanX-int8        RNN   84210.526316          16\n",
      "26     TX2-fp32        RNN   11662.860633          16\n",
      "27     TX2-int8        RNN   12276.695403          16\n",
      "28  TitanX-fp32       LSTM   88888.888889          16\n",
      "29  TitanX-int8       LSTM   94117.647059          16\n",
      "30     TX2-fp32       LSTM   13976.207556          16\n",
      "31     TX2-int8       LSTM   14798.337412          16\n"
     ]
    }
   ],
   "source": [
    "gpu_data = []\n",
    "gpu_list = ['TX2-fp32', 'TitanX-fp32', 'TitanX-int8']\n",
    "config = ConfigParser.ConfigParser()\n",
    "config.read('results/output.ini')\n",
    "for bench in benchmarks.benchlist:\n",
    "    # Titan-X Pascal numbers\n",
    "    titanx_fp32_sec = '{}-performance-batch-{}'.format('TitanX-fp32', batch_size)    \n",
    "    titanx_int8_sec = '{}-performance-batch-{}'.format('TitanX-int8', batch_size)\n",
    "    titanx_fp32_time = config.getfloat(titanx_fp32_sec, bench.lower())\n",
    "    titanx_int8_time = config.getfloat(titanx_int8_sec, bench.lower())    \n",
    "    titanx_fp32_fps = batch_size / titanx_fp32_time * 1.e3\n",
    "    titanx_int8_fps = batch_size / titanx_int8_time * 1.e3\n",
    "    int8_speedup = titanx_int8_fps/titanx_fp32_fps\n",
    "    \n",
    "    gpu_data.append(['TitanX', bench, 'fp32', titanx_fp32_fps, batch_size])\n",
    "    gpu_data.append(['TitanX', bench, 'int8', titanx_int8_fps, batch_size])\n",
    "    \n",
    "    # Jetson-TX2 numbers\n",
    "    tx2_fp32_sec = '{}-performance-batch-{}'.format('TX2-fp32', batch_size)    \n",
    "    tx2_int8_sec = '{}-performance-batch-{}'.format('TX2-int8', batch_size)\n",
    "    tx2_fp32_time = config.getfloat(tx2_fp32_sec, bench.lower())\n",
    "    try:\n",
    "        tx2_int8_time = config.getfloat(tx2_int8_sec, bench.lower())\n",
    "    except:\n",
    "        # ID4A speedup\n",
    "        tx2_int8_time = tx2_fp32_time / int8_speedup\n",
    "    tx2_fp32_fps = batch_size / tx2_fp32_time * 1.e3 * 2\n",
    "    tx2_int8_fps = batch_size / tx2_int8_time * 1.e3 * 2\n",
    "    \n",
    "    gpu_data.append(['TX2', bench, 'fp32', tx2_fp32_fps, batch_size])\n",
    "    gpu_data.append(['TX2', bench, 'int8', tx2_int8_fps, batch_size])\n",
    "    \n",
    "#     print(v100_fp32_time, v100_int8_time)\n",
    "#     print(titanx_fp32_time, titanx_int8_time)\n",
    "    \n",
    "gpu_data = pandas.DataFrame(gpu_data, columns=['Platform', 'Network', 'Precision', 'fps', 'Batch size'])\n",
    "\n",
    "gpu_fps_df = gpu_data\n",
    "gpu_fps_df['Name'] = gpu_fps_df['Platform'] + '-' + gpu_fps_df['Precision']\n",
    "gpu_fps_df = gpu_fps_df[['Name', 'Network', 'fps', 'Batch size']]\n",
    "\n",
    "print(gpu_fps_df)"
   ]
  },
  {
   "cell_type": "markdown",
   "metadata": {},
   "source": [
    "## BitFusion numbers"
   ]
  },
  {
   "cell_type": "code",
   "execution_count": 28,
   "metadata": {},
   "outputs": [
    {
     "name": "stdout",
     "output_type": "stream",
     "text": [
      "**************************************************\n",
      "AlexNet\n",
      "\tAchieved FPS = 212.39 frames/sec\n",
      "\tBitfusion speedup over TX2: 0.462534622567\n",
      "\tTitanX speedup over TX2: 23.7034778206\n",
      "**************************************************\n",
      "**************************************************\n",
      "SVHN\n",
      "\tAchieved FPS = 6072.00 frames/sec\n",
      "\tBitfusion speedup over TX2: 3.33887782483\n",
      "\tTitanX speedup over TX2: 21.7236954489\n",
      "**************************************************\n",
      "**************************************************\n",
      "CIFAR10\n",
      "\tAchieved FPS = 2428.88 frames/sec\n",
      "\tBitfusion speedup over TX2: 3.70870887357\n",
      "\tTitanX speedup over TX2: 29.3286656703\n",
      "**************************************************\n",
      "**************************************************\n",
      "LeNet-5\n",
      "\tAchieved FPS = 19495.46 frames/sec\n",
      "\tBitfusion speedup over TX2: 4.60864934288\n",
      "\tTitanX speedup over TX2: 27.2110571964\n",
      "**************************************************\n",
      "**************************************************\n",
      "VGG-7\n",
      "\tAchieved FPS = 2834.38 frames/sec\n",
      "\tBitfusion speedup over TX2: 4.29224313535\n",
      "\tTitanX speedup over TX2: 30.7092968804\n",
      "**************************************************\n",
      "**************************************************\n",
      "RESNET-18\n",
      "\tAchieved FPS = 163.00 frames/sec\n",
      "\tBitfusion speedup over TX2: 0.739418400454\n",
      "\tTitanX speedup over TX2: 31.0176425511\n",
      "**************************************************\n",
      "**************************************************\n",
      "RNN\n",
      "\tAchieved FPS = 20274.57 frames/sec\n",
      "\tBitfusion speedup over TX2: 1.73838726018\n",
      "\tTitanX speedup over TX2: 7.22040063455\n",
      "**************************************************\n",
      "**************************************************\n",
      "LSTM\n",
      "\tAchieved FPS = 23726.55 frames/sec\n",
      "\tBitfusion speedup over TX2: 1.69763874776\n",
      "\tTitanX speedup over TX2: 6.73413346794\n",
      "**************************************************\n"
     ]
    }
   ],
   "source": [
    "# Constant for a particular accelerator configuration\n",
    "accelerator_constants = ['N', 'M',\n",
    "                         'Max Precision (bits)', 'Min Precision (bits)',\n",
    "                         'WBUF Size (bits)', 'OBUF Size (bits)', 'IBUF Size (bits)',\n",
    "                         'Bandwidth (bits/cycle)'\n",
    "                        ]\n",
    "# Constant for a particular network run\n",
    "algorithm_constants = ['Batch size']\n",
    "\n",
    "\n",
    "# Variables (to be summed) for a particular network run\n",
    "variable_columns = ['Cycles', 'Memory wait cycles',\n",
    "                    'WBUF Read', 'WBUF Write',\n",
    "                    'OBUF Read', 'OBUF Write',\n",
    "                    'IBUF Read', 'IBUF Write',\n",
    "                    'DRAM Read', 'DRAM Write',\n",
    "                   ]\n",
    "\n",
    "sim_sweep_columns = accelerator_constants + \\\n",
    "                        algorithm_constants + \\\n",
    "                        variable_columns + \\\n",
    "                        ['Network', 'Layer']\n",
    "\n",
    "\n",
    "# CSV for sweeps\n",
    "bf_e_sim_sweep_csv = os.path.join(results_dir, 'bitfusion-eyeriss-sim-sweep.csv')\n",
    "if os.path.exists(bf_e_sim_sweep_csv):\n",
    "    bf_e_sim_sweep_df = pandas.read_csv(bf_e_sim_sweep_csv)\n",
    "else:\n",
    "    bf_e_sim_sweep_df = pandas.DataFrame(columns=sim_sweep_columns)\n",
    "# print('Got BitFusion Eyeriss Numbers')\n",
    "# print(bf_e_sim_sweep_df)\n",
    "\n",
    "bf_e_results = check_pandas_or_run(bf_e_sim, bf_e_sim_sweep_df,\n",
    "                                   bf_e_sim_sweep_csv, batch_size=batch_size)\n",
    "bf_e_results = bf_e_results.groupby(['Network', 'Batch size']+accelerator_constants,\n",
    "                                    as_index=False).agg(np.sum)\n",
    "frequency = bf_e_sim.accelerator.frequency #500 MHz\n",
    "bf_e_results['Time (ms)'] = bf_e_results['Cycles'] * 1.e3 / frequency # in ms\n",
    "bf_e_results['fps'] = batch_size / bf_e_results['Time (ms)'] * 1.e3\n",
    "\n",
    "\n",
    "for bench in benchmarks.benchlist:\n",
    "    graph = benchmarks.get_bench_nn(bench)\n",
    "    bf_e_datarow = lookup_pandas_dataframe(bf_e_results, {'Network': bench})\n",
    "    cycles = bf_e_datarow.Cycles\n",
    "    mem_cycles = bf_e_datarow['Memory wait cycles']\n",
    "            \n",
    "    print('*'*50)\n",
    "    print(bench)\n",
    "    bf_e_fps = float(bf_e_datarow['fps'])\n",
    "    print('\\tAchieved FPS = {:.2f} frames/sec'.format(bf_e_fps))\n",
    "    tx2_fps = float(lookup_pandas_dataframe(gpu_fps_df, {'Name': 'TX2-fp32', 'Network': bench})['fps'])\n",
    "    titanx_fps = float(lookup_pandas_dataframe(gpu_fps_df, {'Name': 'TitanX-int8', 'Network': bench})['fps'])\n",
    "    \n",
    "    titanx_speedup = titanx_fps / tx2_fps\n",
    "    bf_e_speedup = bf_e_fps / tx2_fps\n",
    "    \n",
    "    print('\\tBitfusion speedup over TX2: {}'.format(bf_e_speedup))\n",
    "    print('\\tTitanX speedup over TX2: {}'.format(titanx_speedup))\n",
    "    \n",
    "    print('*'*50)"
   ]
  },
  {
   "cell_type": "markdown",
   "metadata": {},
   "source": [
    "## Generate performance comparisons"
   ]
  },
  {
   "cell_type": "code",
   "execution_count": 29,
   "metadata": {},
   "outputs": [
    {
     "name": "stdout",
     "output_type": "stream",
     "text": [
      "      Network            Name            fps\n",
      "0     AlexNet  BitFusion-45nm     212.390371\n",
      "1     CIFAR10  BitFusion-45nm    2428.876426\n",
      "2        LSTM  BitFusion-45nm   23726.551494\n",
      "3     LeNet-5  BitFusion-45nm   19495.457558\n",
      "4   RESNET-18  BitFusion-45nm     162.999245\n",
      "5         RNN  BitFusion-45nm   20274.568342\n",
      "6        SVHN  BitFusion-45nm    6072.000261\n",
      "7       VGG-7  BitFusion-45nm    2834.375734\n",
      "0     AlexNet     TitanX-fp32    5555.555556\n",
      "1     AlexNet     TitanX-int8   10884.353741\n",
      "2     AlexNet        TX2-fp32     459.188049\n",
      "3     AlexNet        TX2-int8     899.633729\n",
      "4        SVHN     TitanX-fp32   27118.644068\n",
      "5        SVHN     TitanX-int8   39506.172840\n",
      "6        SVHN        TX2-fp32    1818.575156\n",
      "7        SVHN        TX2-int8    2649.282326\n",
      "8     CIFAR10     TitanX-fp32    9142.857143\n",
      "9     CIFAR10     TitanX-int8   19207.683073\n",
      "10    CIFAR10        TX2-fp32     654.911590\n",
      "11    CIFAR10        TX2-int8    1375.864685\n",
      "12    LeNet-5     TitanX-fp32   87912.087912\n",
      "13    LeNet-5     TitanX-int8  115107.913669\n",
      "14    LeNet-5        TX2-fp32    4230.188957\n",
      "15    LeNet-5        TX2-int8    5538.808563\n",
      "16      VGG-7     TitanX-fp32    9411.764706\n",
      "17      VGG-7     TitanX-int8   20278.833967\n",
      "18      VGG-7        TX2-fp32     660.348364\n",
      "19      VGG-7        TX2-int8    1422.803827\n",
      "20  RESNET-18     TitanX-fp32    2946.593002\n",
      "21  RESNET-18     TitanX-int8    6837.606838\n",
      "22  RESNET-18        TX2-fp32     220.442505\n",
      "23  RESNET-18        TX2-int8     511.539660\n",
      "24        RNN     TitanX-fp32   80000.000000\n",
      "25        RNN     TitanX-int8   84210.526316\n",
      "26        RNN        TX2-fp32   11662.860633\n",
      "27        RNN        TX2-int8   12276.695403\n",
      "28       LSTM     TitanX-fp32   88888.888889\n",
      "29       LSTM     TitanX-int8   94117.647059\n",
      "30       LSTM        TX2-fp32   13976.207556\n",
      "31       LSTM        TX2-int8   14798.337412\n"
     ]
    }
   ],
   "source": [
    "bf_e_fps_df = bf_e_results[['Network', 'fps']]\n",
    "bf_e_fps_df['Name'] = 'BitFusion-45nm'\n",
    "\n",
    "all_fps_df = pandas.concat([bf_e_fps_df, gpu_fps_df])[['Network', 'Name', 'fps']]\n",
    "print(all_fps_df)\n",
    "platform_list = ['TX2-fp32', 'TitanX-fp32', 'TitanX-int8', 'BitFusion-45nm']\n",
    "all_fps_df = all_fps_df[all_fps_df['Name'].isin(platform_list)]\n",
    "# print(all_fps_df)"
   ]
  },
  {
   "cell_type": "markdown",
   "metadata": {},
   "source": [
    "## GPU performance comparison figure"
   ]
  },
  {
   "cell_type": "code",
   "execution_count": 30,
   "metadata": {},
   "outputs": [
    {
     "data": {
      "image/png": "[encoded data removed]",
      "text/plain": [
       "<Figure size 1152x252 with 1 Axes>"
      ]
     },
     "metadata": {
      "needs_background": "light"
     },
     "output_type": "display_data"
    }
   ],
   "source": [
    "bc = BarChart()\n",
    "bc.LABEL_BAR = True\n",
    "bc.BAR_WIDTH = None\n",
    "bc.YAXIS_MAX = 5\n",
    "bc.ISTIMES = True\n",
    "bc.TOP_ROTATE = True\n",
    "bc.LEGEND_LOCATION = \"upper center\"\n",
    "bc.LEGEND_NCOLUMN = 5\n",
    "bc.MV_LEGEND_OUTSIDE_Y = 1.4\n",
    "bc.MV_LEGEND_OUTSIDE_X = 0.5\n",
    "bc.LOG_SCALE = False\n",
    "bc.FIG_WIDTH = 16\n",
    "bc.TOP_LABEL_FONTSIZE = 12\n",
    "bc.LEGEND_FONTSIZE = 16\n",
    "\n",
    "# print('Generating Figure for GPU performance comparison')\n",
    "bc.yaxis = 'Performance-over-TX2'\n",
    "bc.BAR_WIDTH = None\n",
    "platform_list = ['TX2-fp32', 'TitanX-fp32', 'TitanX-int8', 'BitFusion-45nm']\n",
    "fig_name = os.path.join(fig_dir, 'performance-gpu.pdf')\n",
    "bc.plot(fig_name, all_fps_df, x_plot='Network', y_plot='fps', bar_plot='Name',\n",
    "        bar_list=platform_list, add_geomean=True, baseline='TX2-fp32')"
   ]
  },
  {
   "cell_type": "markdown",
   "metadata": {},
   "source": [
    "## Get 2x, 4x, and 8x area performance for bitfusion"
   ]
  },
  {
   "cell_type": "code",
   "execution_count": 31,
   "metadata": {
    "scrolled": true
   },
   "outputs": [
    {
     "name": "stdout",
     "output_type": "stream",
     "text": [
      "Can't find binary file /Users/hardik/workspace/projects/bitfusion/bitfusion-sim/src/simulator/../../sram/cacti/cacti. Please clone and compile cacti first\n",
      "Can't find binary file /Users/hardik/workspace/projects/bitfusion/bitfusion-sim/src/simulator/../../sram/cacti/cacti. Please clone and compile cacti first\n",
      "Can't find binary file /Users/hardik/workspace/projects/bitfusion/bitfusion-sim/src/simulator/../../sram/cacti/cacti. Please clone and compile cacti first\n",
      "Can't find binary file /Users/hardik/workspace/projects/bitfusion/bitfusion-sim/src/simulator/../../sram/cacti/cacti. Please clone and compile cacti first\n",
      "              Name    Network            fps\n",
      "0   BitFusion-45nm    AlexNet     212.390371\n",
      "1   BitFusion-45nm    CIFAR10    2428.876426\n",
      "2   BitFusion-45nm       LSTM   23726.551494\n",
      "3   BitFusion-45nm    LeNet-5   19495.457558\n",
      "4   BitFusion-45nm  RESNET-18     162.999245\n",
      "5   BitFusion-45nm        RNN   20274.568342\n",
      "6   BitFusion-45nm       SVHN    6072.000261\n",
      "7   BitFusion-45nm      VGG-7    2834.375734\n",
      "0      TitanX-fp32    AlexNet    5555.555556\n",
      "1      TitanX-int8    AlexNet   10884.353741\n",
      "2         TX2-fp32    AlexNet     459.188049\n",
      "4      TitanX-fp32       SVHN   27118.644068\n",
      "5      TitanX-int8       SVHN   39506.172840\n",
      "6         TX2-fp32       SVHN    1818.575156\n",
      "8      TitanX-fp32    CIFAR10    9142.857143\n",
      "9      TitanX-int8    CIFAR10   19207.683073\n",
      "10        TX2-fp32    CIFAR10     654.911590\n",
      "12     TitanX-fp32    LeNet-5   87912.087912\n",
      "13     TitanX-int8    LeNet-5  115107.913669\n",
      "14        TX2-fp32    LeNet-5    4230.188957\n",
      "16     TitanX-fp32      VGG-7    9411.764706\n",
      "17     TitanX-int8      VGG-7   20278.833967\n",
      "18        TX2-fp32      VGG-7     660.348364\n",
      "20     TitanX-fp32  RESNET-18    2946.593002\n",
      "21     TitanX-int8  RESNET-18    6837.606838\n",
      "22        TX2-fp32  RESNET-18     220.442505\n",
      "24     TitanX-fp32        RNN   80000.000000\n",
      "25     TitanX-int8        RNN   84210.526316\n",
      "26        TX2-fp32        RNN   11662.860633\n",
      "28     TitanX-fp32       LSTM   88888.888889\n",
      "..             ...        ...            ...\n",
      "2   BitFusion (1x)       LSTM   77622.425119\n",
      "3   BitFusion (1x)    LeNet-5   35489.466283\n",
      "4   BitFusion (1x)  RESNET-18     202.331251\n",
      "5   BitFusion (1x)        RNN   61031.896795\n",
      "6   BitFusion (1x)       SVHN   10249.209530\n",
      "7   BitFusion (1x)      VGG-7    7748.919510\n",
      "0   BitFusion (2x)    AlexNet     520.874874\n",
      "1   BitFusion (2x)    CIFAR10    9025.230031\n",
      "2   BitFusion (2x)       LSTM  153689.508770\n",
      "3   BitFusion (2x)    LeNet-5   65992.443865\n",
      "4   BitFusion (2x)  RESNET-18     404.647825\n",
      "5   BitFusion (2x)        RNN  121928.915442\n",
      "6   BitFusion (2x)       SVHN   20436.941816\n",
      "7   BitFusion (2x)      VGG-7   15475.923332\n",
      "0   BitFusion (4x)    AlexNet    1041.574715\n",
      "1   BitFusion (4x)    CIFAR10   17967.272613\n",
      "2   BitFusion (4x)       LSTM  301375.023545\n",
      "3   BitFusion (4x)    LeNet-5   58504.764482\n",
      "4   BitFusion (4x)  RESNET-18     808.023838\n",
      "5   BitFusion (4x)        RNN  243368.216111\n",
      "6   BitFusion (4x)       SVHN   27094.580407\n",
      "7   BitFusion (4x)      VGG-7   27365.396456\n",
      "0   BitFusion (8x)    AlexNet    1508.588583\n",
      "1   BitFusion (8x)    CIFAR10   22846.763899\n",
      "2   BitFusion (8x)       LSTM  544328.774580\n",
      "3   BitFusion (8x)    LeNet-5   47186.226341\n",
      "4   BitFusion (8x)  RESNET-18    1111.650570\n",
      "5   BitFusion (8x)        RNN  457875.457875\n",
      "6   BitFusion (8x)       SVHN   25897.678273\n",
      "7   BitFusion (8x)      VGG-7   32261.186566\n",
      "\n",
      "[64 rows x 3 columns]\n"
     ]
    }
   ],
   "source": [
    "bf_fps_df = pandas.DataFrame(columns=['Name', 'Network', 'fps'])\n",
    "df_list = []\n",
    "for factor in [1, 2, 4, 8]:\n",
    "    config_file = 'bf_e_conf.ini'\n",
    "    verbose = False\n",
    "    bf_scaled = Simulator(config_file, verbose)\n",
    "    bf_scaled.accelerator.M *= factor\n",
    "    bf_scaled.accelerator.sram['act'] *= factor\n",
    "    bf_scaled.accelerator.sram['wgt'] *= factor\n",
    "    bf_scaled.accelerator.sram['out'] *= factor\n",
    "#     if bf_scaled.accelerator.mem_if_width * factor > 1024:\n",
    "#         bf_scaled.accelerator.mem_if_width = 1024\n",
    "#     else:\n",
    "#         bf_scaled.accelerator.mem_if_width = bf_scaled.accelerator.mem_if_width * factor\n",
    "#     bf_scaled.accelerator.mem_if_width = bf_scaled.accelerator.mem_if_width * factor\n",
    "    bf_scaled.accelerator.mem_if_width = 4096\n",
    "    frequency = bf_scaled.accelerator.frequency\n",
    "#     print(bf_scaled)\n",
    "    bf_e_scaled_results = check_pandas_or_run(bf_scaled, bf_e_sim_sweep_df,\n",
    "                                       bf_e_sim_sweep_csv, batch_size=batch_size)\n",
    "    bf_e_scaled_results = bf_e_scaled_results.groupby(['Network', 'Batch size']+accelerator_constants,\n",
    "                                    as_index=False).agg(np.sum)\n",
    "    bf_e_scaled_results['fps'] = batch_size * frequency / (bf_e_scaled_results.Cycles)\n",
    "    bf_e_scaled_results['Name'] = 'BitFusion ({}x)'.format(factor)\n",
    "    bf_e_scaled_results = bf_e_scaled_results[['Name', 'Network', 'fps']]\n",
    "    df_list.append(bf_e_scaled_results)\n",
    "    \n",
    "bf_fps_df = pandas.concat(df_list)\n",
    "all_fps_df = pandas.concat([all_fps_df, bf_fps_df])\n",
    "print(all_fps_df)"
   ]
  },
  {
   "cell_type": "code",
   "execution_count": 32,
   "metadata": {},
   "outputs": [
    {
     "data": {
      "image/png": "[encoded data removed]",
      "text/plain": [
       "<Figure size 1152x252 with 1 Axes>"
      ]
     },
     "metadata": {
      "needs_background": "light"
     },
     "output_type": "display_data"
    }
   ],
   "source": [
    "bc = BarChart()\n",
    "bc.LABEL_BAR = True\n",
    "bc.BAR_WIDTH = None\n",
    "bc.YAXIS_MAX = 16\n",
    "bc.FIG_WIDTH = 16\n",
    "bc.TOP_LABEL_FONTSIZE = 12\n",
    "bc.LEGEND_FONTSIZE = 16\n",
    "bc.ISTIMES = True\n",
    "bc.TOP_ROTATE = True\n",
    "bc.LEGEND_LOCATION = \"upper center\"\n",
    "bc.LEGEND_NCOLUMN = 5\n",
    "bc.MV_LEGEND_OUTSIDE_Y = 1.6\n",
    "bc.MV_LEGEND_OUTSIDE_X = 0.5\n",
    "bc.LOG_SCALE = False\n",
    "\n",
    "# print('Generating Figure for GPU performance comparison')\n",
    "bc.yaxis = 'Performance'\n",
    "bc.BAR_WIDTH = None\n",
    "fig_name = os.path.join(fig_dir, 'performance-eyeriss-comparision.pdf')\n",
    "platform_list = ['TX2-fp32', 'TitanX-fp32', 'TitanX-int8', 'BitFusion (8x)']\n",
    "bc.plot(fig_name, all_fps_df, x_plot='Network', y_plot='fps', bar_plot='Name',\n",
    "        bar_list=platform_list, add_geomean=True, baseline='TX2-fp32')"
   ]
  }
 ],
 "metadata": {
  "kernelspec": {
   "display_name": "Python 2",
   "language": "python",
   "name": "python2"
  },
  "language_info": {
   "codemirror_mode": {
    "name": "ipython",
    "version": 3
   },
   "file_extension": ".py",
   "mimetype": "text/x-python",
   "name": "python",
   "nbconvert_exporter": "python",
   "pygments_lexer": "ipython3",
   "version": "3.6.5"
  }
 },
 "nbformat": 4,
 "nbformat_minor": 2
}
